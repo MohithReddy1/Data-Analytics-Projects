{
 "cells": [
  {
   "cell_type": "markdown",
   "id": "aboriginal-authorization",
   "metadata": {},
   "source": [
    "# Importing libraries"
   ]
  },
  {
   "cell_type": "code",
   "execution_count": 3,
   "id": "driving-harris",
   "metadata": {},
   "outputs": [],
   "source": [
    "import pandas as pd\n",
    "import matplotlib.pyplot as plt\n",
    "import seaborn as sns\n",
    "from pandas_visual_analysis import VisualAnalysis"
   ]
  },
  {
   "cell_type": "markdown",
   "id": "destroyed-canadian",
   "metadata": {},
   "source": [
    "# Data Visualization"
   ]
  },
  {
   "cell_type": "code",
   "execution_count": 4,
   "id": "national-virgin",
   "metadata": {
    "scrolled": false
   },
   "outputs": [
    {
     "data": {
      "application/vnd.jupyter.widget-view+json": {
       "model_id": "415a488ca04d4bc58af63eb66e04136d",
       "version_major": 2,
       "version_minor": 0
      },
      "text/plain": [
       "VBox(children=(ToggleButtons(_dom_classes=('layout-4cf2809d9bdb4988b5a6f44dbf395032',), description='Selection…"
      ]
     },
     "metadata": {},
     "output_type": "display_data"
    }
   ],
   "source": [
    "df = pd.read_excel('Data_Analytics.xlsx')\n",
    "VisualAnalysis(df)"
   ]
  },
  {
   "cell_type": "code",
   "execution_count": 17,
   "id": "guided-motion",
   "metadata": {},
   "outputs": [
    {
     "data": {
      "text/plain": [
       "['Scatter',\n",
       " 'ParallelCoordinates',\n",
       " 'BrushSummary',\n",
       " 'Histogram',\n",
       " 'ParallelCategories',\n",
       " 'BoxPlot']"
      ]
     },
     "execution_count": 17,
     "metadata": {},
     "output_type": "execute_result"
    }
   ],
   "source": [
    "VisualAnalysis.widgets()"
   ]
  },
  {
   "cell_type": "code",
   "execution_count": null,
   "id": "norwegian-chemistry",
   "metadata": {},
   "outputs": [],
   "source": []
  }
 ],
 "metadata": {
  "kernelspec": {
   "display_name": "Python 3",
   "language": "python",
   "name": "python3"
  },
  "language_info": {
   "codemirror_mode": {
    "name": "ipython",
    "version": 3
   },
   "file_extension": ".py",
   "mimetype": "text/x-python",
   "name": "python",
   "nbconvert_exporter": "python",
   "pygments_lexer": "ipython3",
   "version": "3.9.1"
  }
 },
 "nbformat": 4,
 "nbformat_minor": 5
}
